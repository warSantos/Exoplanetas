{
 "cells": [
  {
   "cell_type": "markdown",
   "source": [
    "# Classificação de Exoplanetas\n",
    "\n",
    "### Welton Augusto Rodrigues Santos"
   ],
   "metadata": {}
  },
  {
   "cell_type": "code",
   "execution_count": null,
   "source": [
    "import os\n",
    "\n",
    "# Numpy\n",
    "import numpy as np\n",
    "\n",
    "# Pandas\n",
    "import pandas as pd\n",
    "\n",
    "## Matplotlib\n",
    "import matplotlib.pyplot as plt\n",
    "\n",
    "from sklearn.preprocessing import normalize\n",
    "\n",
    "## Cross validation, GrideSearch (Model selection).\n",
    "from sklearn.model_selection import cross_val_score\n",
    "from sklearn.model_selection import GridSearchCV\n",
    "from sklearn.model_selection import train_test_split\n",
    "from sklearn.metrics import precision_score\n",
    "from sklearn.metrics import recall_score\n",
    "from sklearn.metrics import roc_auc_score\n",
    "\n",
    "## Classifiers.\n",
    "from sklearn.naive_bayes import GaussianNB\n",
    "from sklearn.tree import DecisionTreeClassifier\n",
    "from sklearn.svm import SVC\n",
    "from sklearn.neighbors import KNeighborsClassifier\n",
    "from sklearn.ensemble import RandomForestClassifier\n",
    "from sklearn.ensemble import GradientBoostingClassifier\n",
    "from sklearn.model_selection import KFold"
   ],
   "outputs": [],
   "metadata": {}
  },
  {
   "cell_type": "code",
   "execution_count": null,
   "source": [
    "originalDF = pd.read_csv('database/koi_data.csv', sep=',')\n",
    "originalDF.head()"
   ],
   "outputs": [],
   "metadata": {}
  },
  {
   "cell_type": "markdown",
   "source": [
    "## Normalizando os dados\n",
    "\n",
    "Para evitar que atributos com valores em range maiores ganhem mais importância que features com valores em range menor indevidamente, normalizamos os valores de todos atributos dentro do intervalo de 0-1."
   ],
   "metadata": {}
  },
  {
   "cell_type": "code",
   "execution_count": null,
   "source": [
    "originalDF.columns"
   ],
   "outputs": [],
   "metadata": {}
  },
  {
   "cell_type": "code",
   "execution_count": null,
   "source": [
    "dataset_path = \"database/df.csv\"\n",
    "if os.path.exists(dataset_path):\n",
    "    df = pd.read_csv(dataset_path, sep=\",\")\n",
    "else:\n",
    "    target = originalDF[\"koi_disposition\"]\n",
    "    df_values = originalDF.drop(columns=[\"koi_disposition\",\"kepoi_name\"], axis=1)\n",
    "    feats = normalize(df_values.values)\n",
    "    df = pd.DataFrame(feats, columns=list(df_values.columns))\n",
    "    df[\"koi_disposition\"] = target\n",
    "    df.to_csv(dataset_path, sep=\",\", index=False)\n"
   ],
   "outputs": [],
   "metadata": {}
  },
  {
   "cell_type": "code",
   "execution_count": null,
   "source": [
    "df.head(5)"
   ],
   "outputs": [],
   "metadata": {}
  },
  {
   "cell_type": "code",
   "execution_count": null,
   "source": [
    "def hyper_tuning(df, clf, params, score=\"accuracy\"):\n",
    "    X = df.drop(columns=[\"koi_disposition\"], axis=1).values\n",
    "    Y = df[\"koi_disposition\"]\n",
    "    folds = 5\n",
    "    grid_search_cv = GridSearchCV(clf, params, scoring=score, cv=folds, verbose=3, n_jobs=25)\n",
    "    grid_search_cv.fit(X, Y)\n",
    "    return grid_search_cv\n",
    "\n",
    "def plot_graph(clf_scores, start, end, xlabel, ylabel=\"Accuracy\"):\n",
    "    x = list(range(start, end))\n",
    "    fig, ax = plt.subplots()\n",
    "    ax.grid()\n",
    "    ax.set_xlabel(xlabel)\n",
    "    ax.set_ylabel(ylabel)\n",
    "    # Configurando intervalo de plot no eixo Y.\n",
    "    ax.set_ylim([0,1])\n",
    "    ax.plot(x, clf_scores)\n",
    "\n",
    "def map_label(x):\n",
    "\n",
    "    if x == 'CONFIRMED':\n",
    "        return 1\n",
    "    return 0\n",
    "    \n",
    "def analysis_best_estimator(df, best_clf):\n",
    "\n",
    "    # Preparando o dado para treino e teste.\n",
    "    X = df.drop(columns=[\"koi_disposition\"], axis=1).values\n",
    "    Y = list(map(map_label, df[\"koi_disposition\"]))\n",
    "    r = np.random\n",
    "    seed = r.randint(100)\n",
    "    X_train, X_test, Y_train, Y_test = train_test_split(X, Y, test_size=0.25, random_state=seed)\n",
    "\n",
    "    # Treinando o classificador.\n",
    "    best_clf.fit(X_train, Y_train)\n",
    "    Y_pred = best_clf.predict(X_test)\n",
    "\n",
    "    # Avaliando o classificador.\n",
    "    precision = precision_score(Y_test, Y_pred)\n",
    "    recall = recall_score(Y_test, Y_pred)\n",
    "    roc_auc = roc_auc_score(Y_test, Y_pred)\n",
    "\n",
    "    print(\"Precisão: \", precision)\n",
    "    print(\"Recall: \", recall)\n",
    "    print(\"ROC_AUC: \", roc_auc)"
   ],
   "outputs": [],
   "metadata": {}
  },
  {
   "cell_type": "markdown",
   "source": [
    "## Base Line (Nayve Bayes)\n",
    "Construindo baseline com algoritimo Naive Bayes. Para construir o baseline com este algoritimo utilizamores a versão Gaussian Naive Bayes para lidar com valores reais."
   ],
   "metadata": {}
  },
  {
   "cell_type": "code",
   "execution_count": null,
   "source": [
    "\n",
    "folds = 5\n",
    "X = df.drop(columns=[\"koi_disposition\"], axis=1).values\n",
    "Y = df[\"koi_disposition\"]\n",
    "clf = GaussianNB()\n",
    "scores = [\"accuracy\", \"f1_macro\"]\n",
    "for score in scores:\n",
    "    print(f\"Média ({score}): \", sum(cross_val_score(clf, X, Y, cv=folds, scoring=score, n_jobs=15))/folds)\n"
   ],
   "outputs": [],
   "metadata": {}
  },
  {
   "cell_type": "markdown",
   "source": [
    "O algoritmo Naive Bayes (Baseline de nosso experimento) obteve ~ 91.89 de acuurácia na predição das classes de planetas."
   ],
   "metadata": {}
  },
  {
   "cell_type": "markdown",
   "source": [
    "## Decision Tree\n",
    "\n",
    "Avaliação do algoritimo decision tree. Neste experimento alteramos a altura máxima da árvore, inicialmente de 1-100 e em sequência de permitindo altura ilimitada. Como a base de dados contém 41 atributos, não é esperado que a altura máxima da árvore ultrapasse 41. Porém, para efeitos de experimentos, deixamos o valor ir até a 100 e também avaliamos a árvore com o parâmetro default, que conforme a biblioteca sklearn, permite que a árvore atinja a altura máxima."
   ],
   "metadata": {}
  },
  {
   "cell_type": "markdown",
   "source": [
    "### Estimando a altura máxima esperada da árvore. Conforme o cross_validation do gride search é 16."
   ],
   "metadata": {}
  },
  {
   "cell_type": "code",
   "execution_count": null,
   "source": [
    "# Testando a altura máxima esperada dá árvore.\n",
    "k_folds = KFold(n_splits=5)\n",
    "\n",
    "tree_clf = DecisionTreeClassifier()\n",
    "params = {\"criterion\" : [\"gini\",\"entropy\"]}\n",
    "tree_clf = GridSearchCV(tree_clf, params, cv=k_folds)\n",
    "tree_clf.fit(X, Y)\n",
    "tree_clf_depth = tree_clf.best_estimator_\n",
    "print(\"Max Depth Tree: \", tree_clf_depth.tree_.max_depth)"
   ],
   "outputs": [],
   "metadata": {}
  },
  {
   "cell_type": "markdown",
   "source": [
    "### Buscando por estimador ótimo para a árvore."
   ],
   "metadata": {}
  },
  {
   "cell_type": "code",
   "execution_count": null,
   "source": [
    "# Construindo o classificador e o conjunto de parâmetros para busca. Buscaremos até o a altura 20 (4 a mais do esperado).\n",
    "tree_clf = DecisionTreeClassifier()\n",
    "tree_params = {'max_depth': list(range(1, 20))}\n",
    "\n",
    "# Buscando parâmetros.\n",
    "tree_grid_search_cv = hyper_tuning(df, tree_clf, tree_params)\n"
   ],
   "outputs": [],
   "metadata": {}
  },
  {
   "cell_type": "code",
   "execution_count": null,
   "source": [
    "tree_mean_scores = tree_grid_search_cv.cv_results_[\"mean_test_score\"]\n",
    "plot_graph(tree_mean_scores, 1, len(tree_mean_scores)+1, \"Altura da Árvore\")"
   ],
   "outputs": [],
   "metadata": {}
  },
  {
   "cell_type": "code",
   "execution_count": null,
   "source": [
    "max_depth = tree_grid_search_cv.best_params_[\"max_depth\"]\n",
    "best_tree_clf = DecisionTreeClassifier(max_depth=max_depth)\n",
    "analysis_best_estimator(df, best_tree_clf)"
   ],
   "outputs": [],
   "metadata": {}
  },
  {
   "cell_type": "markdown",
   "source": [
    "## SVM (Suport Vector Machine)\n",
    "\n",
    "Análise do algoritmo SVM com diferentes funções de kernel para o problema de classificação de explanetas."
   ],
   "metadata": {}
  },
  {
   "cell_type": "code",
   "execution_count": 58,
   "source": [
    "# Construindo classificador SVM.\n",
    "svm_params = {\"kernel\": [\"linear\", \"poly\", \"rbf\", \"sigmoid\"]}\n",
    "svm_clf = SVC()\n",
    "\n",
    "# Encontrando o melhor Kernel para o SVM.\n",
    "svm_grid_search_cv = hyper_tuning(df, svm_clf, svm_params)"
   ],
   "outputs": [
    {
     "output_type": "stream",
     "name": "stdout",
     "text": [
      "Fitting 5 folds for each of 4 candidates, totalling 20 fits\n"
     ]
    }
   ],
   "metadata": {}
  },
  {
   "cell_type": "markdown",
   "source": [],
   "metadata": {}
  },
  {
   "cell_type": "markdown",
   "source": [
    "## KNN K-Nearest Neighbors\n",
    "\n",
    "Avaliação do algoritimo KNN variando o número de vizinhos."
   ],
   "metadata": {}
  },
  {
   "cell_type": "code",
   "execution_count": null,
   "source": [
    "# Construindo o classificador e o conjunto de parâmetros para busca. Buscaremos até o a altura 20 (4 a mais do esperado).\n",
    "knn_clf = KNeighborsClassifier()\n",
    "knn_params = {'n_neighbors': list(range(1, 20))}\n",
    "\n",
    "# Buscando número de vizinhos ideal para o KNN.\n",
    "knn_grid_search_cv = hyper_tuning(df, knn_clf, knn_params)"
   ],
   "outputs": [],
   "metadata": {}
  },
  {
   "cell_type": "code",
   "execution_count": null,
   "source": [
    "knn_mean_scores = knn_grid_search_cv.cv_results_[\"mean_test_score\"]\n",
    "plot_graph(knn_mean_scores, 1, len(knn_mean_scores)+1, \"N Neighbors\")"
   ],
   "outputs": [],
   "metadata": {}
  },
  {
   "cell_type": "code",
   "execution_count": null,
   "source": [
    "n_neighbors = knn_grid_search_cv.best_params_[\"n_neighbors\"]\n",
    "best_knn_clf = KNeighborsClassifier(n_neighbors=n_neighbors)\n",
    "analysis_best_estimator(df, best_knn_clf)"
   ],
   "outputs": [],
   "metadata": {}
  },
  {
   "cell_type": "markdown",
   "source": [
    "## Random Forest Classifier"
   ],
   "metadata": {}
  },
  {
   "cell_type": "code",
   "execution_count": 52,
   "source": [
    "# Construindo instância do classificador RF e configurando espaço de alternativas para o número de árvores.\n",
    "rf_params = {\"n_estimators\": list(range(1,200))}\n",
    "rf_clf = RandomForestClassifier(n_jobs=15)\n",
    "\n",
    "# Buscando o número ideal de árvores para o algoritimo Random Forest.\n",
    "rf_grid_search_cv = hyper_tuning(df, rf_clf, rf_params)"
   ],
   "outputs": [
    {
     "output_type": "stream",
     "name": "stdout",
     "text": [
      "Fitting 5 folds for each of 199 candidates, totalling 995 fits\n"
     ]
    }
   ],
   "metadata": {}
  },
  {
   "cell_type": "code",
   "execution_count": 53,
   "source": [
    "rf_mean_scores = rf_grid_search_cv.cv_results_[\"mean_test_score\"]\n",
    "plot_graph(rf_mean_scores, 1, len(rf_mean_scores)+1, \"N-Estimators\")"
   ],
   "outputs": [
    {
     "output_type": "display_data",
     "data": {
      "text/plain": [
       "<Figure size 432x288 with 1 Axes>"
      ],
      "image/png": "[encoded data removed]"
     },
     "metadata": {
      "needs_background": "light"
     }
    }
   ],
   "metadata": {}
  },
  {
   "cell_type": "code",
   "execution_count": 56,
   "source": [
    "n_estimators = rf_grid_search_cv.best_params_[\"n_estimators\"]\n",
    "best_rf_clf = RandomForestClassifier(n_estimators=n_estimators)\n",
    "analysis_best_estimator(df, best_rf_clf)"
   ],
   "outputs": [
    {
     "output_type": "stream",
     "name": "stdout",
     "text": [
      "Precisão:  0.9582542694497154\n",
      "Recall:  0.9711538461538461\n",
      "ROC_AUC:  0.9714924160346696\n"
     ]
    }
   ],
   "metadata": {}
  },
  {
   "cell_type": "markdown",
   "source": [
    "## Gradient Tree Classifier"
   ],
   "metadata": {}
  },
  {
   "cell_type": "code",
   "execution_count": null,
   "source": [
    "# Construindo instância do classificador GTC e espaço de busca por iterações.\n",
    "gtc_params = {\"n_iter_no_change\": list(range(1,200))}\n",
    "gtc_clf = GradientBoostingClassifier()\n",
    "\n",
    "# Buscando número de iterações ideal para o classificador GTC.\n",
    "gtc_grid_search_cv = hyper_tuning(df, gtc_clf, gtc_params)"
   ],
   "outputs": [],
   "metadata": {}
  },
  {
   "cell_type": "code",
   "execution_count": null,
   "source": [
    "gtc_mean_scores = gtc_grid_search_cv.cv_results_[\"mean_test_score\"]\n",
    "plot_graph(gtc_mean_scores, 1, len(gtc_mean_scores)+1, \"Iterations\")"
   ],
   "outputs": [],
   "metadata": {}
  },
  {
   "cell_type": "code",
   "execution_count": 57,
   "source": [
    "n_iter_no_change = gtc_grid_search_cv.best_params_[\"n_iter_no_change\"]\n",
    "best_gtc_clf = GradientBoostingClassifier(n_iter_no_change=n_iter_no_change)\n",
    "analysis_best_estimator(df, best_gtc_clf)"
   ],
   "outputs": [
    {
     "output_type": "stream",
     "name": "stdout",
     "text": [
      "Precisão:  0.9561068702290076\n",
      "Recall:  0.978515625\n",
      "ROC_AUC:  0.974682400586185\n"
     ]
    }
   ],
   "metadata": {}
  },
  {
   "cell_type": "code",
   "execution_count": null,
   "source": [],
   "outputs": [],
   "metadata": {}
  }
 ],
 "metadata": {
  "orig_nbformat": 4,
  "language_info": {
   "name": "python",
   "version": "3.9.2",
   "mimetype": "text/x-python",
   "codemirror_mode": {
    "name": "ipython",
    "version": 3
   },
   "pygments_lexer": "ipython3",
   "nbconvert_exporter": "python",
   "file_extension": ".py"
  },
  "kernelspec": {
   "name": "python38364bitenvvenve087fdd06e3045a79996376126b94c1c",
   "display_name": "Python 3.8.3 64-bit ('env': venv)",
   "language": "python"
  },
  "interpreter": {
   "hash": "bcba1b8cf00d78a1a8555a432e03d91e293895ab4093de873ee571d807ac6ff7"
  }
 },
 "nbformat": 4,
 "nbformat_minor": 2
}