{
 "cells": [
  {
   "cell_type": "markdown",
   "source": [
    "# Classificação de Exoplanetas\n",
    "\n",
    "### Welton Augusto Rodrigues Santos"
   ],
   "metadata": {}
  },
  {
   "cell_type": "code",
   "execution_count": 25,
   "source": [
    "import os\n",
    "\n",
    "# Numpy\n",
    "import numpy as np\n",
    "\n",
    "# Pandas\n",
    "import pandas as pd\n",
    "\n",
    "## Matplotlib\n",
    "import matplotlib.pyplot as plt\n",
    "\n",
    "from sklearn.preprocessing import normalize\n",
    "\n",
    "## Cross validation, GrideSearch (Model selection).\n",
    "from sklearn.model_selection import cross_val_score\n",
    "from sklearn.model_selection import GridSearchCV\n",
    "from sklearn.model_selection import train_test_split\n",
    "from sklearn.model_selection import StratifiedKFold\n",
    "from sklearn.metrics import precision_score\n",
    "from sklearn.metrics import recall_score\n",
    "from sklearn.metrics import roc_auc_score\n",
    "\n",
    "## Classifiers.\n",
    "from sklearn.naive_bayes import GaussianNB\n",
    "from sklearn.tree import DecisionTreeClassifier\n",
    "from sklearn.svm import SVC\n",
    "from sklearn.neighbors import KNeighborsClassifier\n",
    "from sklearn.ensemble import RandomForestClassifier\n",
    "from sklearn.ensemble import GradientBoostingClassifier\n",
    "from sklearn.model_selection import KFold"
   ],
   "outputs": [],
   "metadata": {}
  },
  {
   "cell_type": "markdown",
   "source": [
    "# Definição de Métricas\n",
    "\n",
    "### TP = Taxa de Verdadeiros Posítivos (classificados como positivos e são positivos)\n",
    "### FP = Taxa de Falso Posítivos (classificados como não positivos e são negativos)\n",
    "### TN = Taxa de Verdadeiros Negativos (classificados como negativos e são negativos)\n",
    "### FN = Taxa de Falso Negativos (classificados como negativos e são positivos)\n",
    "\n",
    "### Acurácia = TP + TN / (TP + TN + FP + FN)\n",
    "### Precisão = TP / (TP + FP)\n",
    "### Recall = TN / (TN + FN)\n",
    "### F1-Score = 2 * (Precisão * Recall) / (Precisão + Recall)\n",
    "### Curva Roc = Projeção da taxa TP contra a FN"
   ],
   "metadata": {}
  },
  {
   "cell_type": "code",
   "execution_count": 26,
   "source": [
    "originalDF = pd.read_csv('database/koi_data.csv', sep=',')\n",
    "originalDF.head()"
   ],
   "outputs": [
    {
     "output_type": "execute_result",
     "data": {
      "text/plain": [
       "  kepoi_name koi_disposition  koi_period  koi_impact  koi_duration  koi_depth  \\\n",
       "0  K00752.01       CONFIRMED     9.48804       0.146       2.95750      615.8   \n",
       "1  K00752.02       CONFIRMED    54.41838       0.586       4.50700      874.8   \n",
       "2  K00754.01  FALSE POSITIVE     1.73695       1.276       2.40641     8079.2   \n",
       "3  K00755.01       CONFIRMED     2.52559       0.701       1.65450      603.3   \n",
       "4  K00114.01  FALSE POSITIVE     7.36179       1.169       5.02200      233.7   \n",
       "\n",
       "   koi_ror  koi_srho  koi_prad  koi_sma  ...  koi_fwm_srao  koi_fwm_sdeco  \\\n",
       "0  0.02234   3.20796      2.26   0.0853  ...         0.430          0.940   \n",
       "1  0.02795   3.02368      2.83   0.2734  ...        -0.630          1.230   \n",
       "2  0.38739   0.22080     33.46   0.0267  ...        -0.111          0.002   \n",
       "3  0.02406   1.98635      2.75   0.0374  ...        -0.010          0.230   \n",
       "4  0.18339   0.00485     39.21   0.0820  ...       -13.450         24.090   \n",
       "\n",
       "   koi_fwm_prao  koi_fwm_pdeco  koi_dicco_mra  koi_dicco_mdec  koi_dicco_msky  \\\n",
       "0      -0.00020       -0.00055         -0.010           0.200           0.200   \n",
       "1       0.00066       -0.00105          0.390           0.000           0.390   \n",
       "2       0.00302       -0.00142         -0.249           0.147           0.289   \n",
       "3       0.00008       -0.00007          0.030          -0.090           0.100   \n",
       "4       0.00303       -0.00555         -4.506           7.710           8.930   \n",
       "\n",
       "   koi_dikco_mra  koi_dikco_mdec  koi_dikco_msky  \n",
       "0          0.080           0.310           0.320  \n",
       "1          0.490           0.120           0.500  \n",
       "2         -0.257           0.099           0.276  \n",
       "3          0.070           0.020           0.070  \n",
       "4         -4.537           7.713           8.948  \n",
       "\n",
       "[5 rows x 43 columns]"
      ],
      "text/html": [
       "<div>\n",
       "<style scoped>\n",
       "    .dataframe tbody tr th:only-of-type {\n",
       "        vertical-align: middle;\n",
       "    }\n",
       "\n",
       "    .dataframe tbody tr th {\n",
       "        vertical-align: top;\n",
       "    }\n",
       "\n",
       "    .dataframe thead th {\n",
       "        text-align: right;\n",
       "    }\n",
       "</style>\n",
       "<table border=\"1\" class=\"dataframe\">\n",
       "  <thead>\n",
       "    <tr style=\"text-align: right;\">\n",
       "      <th></th>\n",
       "      <th>kepoi_name</th>\n",
       "      <th>koi_disposition</th>\n",
       "      <th>koi_period</th>\n",
       "      <th>koi_impact</th>\n",
       "      <th>koi_duration</th>\n",
       "      <th>koi_depth</th>\n",
       "      <th>koi_ror</th>\n",
       "      <th>koi_srho</th>\n",
       "      <th>koi_prad</th>\n",
       "      <th>koi_sma</th>\n",
       "      <th>...</th>\n",
       "      <th>koi_fwm_srao</th>\n",
       "      <th>koi_fwm_sdeco</th>\n",
       "      <th>koi_fwm_prao</th>\n",
       "      <th>koi_fwm_pdeco</th>\n",
       "      <th>koi_dicco_mra</th>\n",
       "      <th>koi_dicco_mdec</th>\n",
       "      <th>koi_dicco_msky</th>\n",
       "      <th>koi_dikco_mra</th>\n",
       "      <th>koi_dikco_mdec</th>\n",
       "      <th>koi_dikco_msky</th>\n",
       "    </tr>\n",
       "  </thead>\n",
       "  <tbody>\n",
       "    <tr>\n",
       "      <th>0</th>\n",
       "      <td>K00752.01</td>\n",
       "      <td>CONFIRMED</td>\n",
       "      <td>9.48804</td>\n",
       "      <td>0.146</td>\n",
       "      <td>2.95750</td>\n",
       "      <td>615.8</td>\n",
       "      <td>0.02234</td>\n",
       "      <td>3.20796</td>\n",
       "      <td>2.26</td>\n",
       "      <td>0.0853</td>\n",
       "      <td>...</td>\n",
       "      <td>0.430</td>\n",
       "      <td>0.940</td>\n",
       "      <td>-0.00020</td>\n",
       "      <td>-0.00055</td>\n",
       "      <td>-0.010</td>\n",
       "      <td>0.200</td>\n",
       "      <td>0.200</td>\n",
       "      <td>0.080</td>\n",
       "      <td>0.310</td>\n",
       "      <td>0.320</td>\n",
       "    </tr>\n",
       "    <tr>\n",
       "      <th>1</th>\n",
       "      <td>K00752.02</td>\n",
       "      <td>CONFIRMED</td>\n",
       "      <td>54.41838</td>\n",
       "      <td>0.586</td>\n",
       "      <td>4.50700</td>\n",
       "      <td>874.8</td>\n",
       "      <td>0.02795</td>\n",
       "      <td>3.02368</td>\n",
       "      <td>2.83</td>\n",
       "      <td>0.2734</td>\n",
       "      <td>...</td>\n",
       "      <td>-0.630</td>\n",
       "      <td>1.230</td>\n",
       "      <td>0.00066</td>\n",
       "      <td>-0.00105</td>\n",
       "      <td>0.390</td>\n",
       "      <td>0.000</td>\n",
       "      <td>0.390</td>\n",
       "      <td>0.490</td>\n",
       "      <td>0.120</td>\n",
       "      <td>0.500</td>\n",
       "    </tr>\n",
       "    <tr>\n",
       "      <th>2</th>\n",
       "      <td>K00754.01</td>\n",
       "      <td>FALSE POSITIVE</td>\n",
       "      <td>1.73695</td>\n",
       "      <td>1.276</td>\n",
       "      <td>2.40641</td>\n",
       "      <td>8079.2</td>\n",
       "      <td>0.38739</td>\n",
       "      <td>0.22080</td>\n",
       "      <td>33.46</td>\n",
       "      <td>0.0267</td>\n",
       "      <td>...</td>\n",
       "      <td>-0.111</td>\n",
       "      <td>0.002</td>\n",
       "      <td>0.00302</td>\n",
       "      <td>-0.00142</td>\n",
       "      <td>-0.249</td>\n",
       "      <td>0.147</td>\n",
       "      <td>0.289</td>\n",
       "      <td>-0.257</td>\n",
       "      <td>0.099</td>\n",
       "      <td>0.276</td>\n",
       "    </tr>\n",
       "    <tr>\n",
       "      <th>3</th>\n",
       "      <td>K00755.01</td>\n",
       "      <td>CONFIRMED</td>\n",
       "      <td>2.52559</td>\n",
       "      <td>0.701</td>\n",
       "      <td>1.65450</td>\n",
       "      <td>603.3</td>\n",
       "      <td>0.02406</td>\n",
       "      <td>1.98635</td>\n",
       "      <td>2.75</td>\n",
       "      <td>0.0374</td>\n",
       "      <td>...</td>\n",
       "      <td>-0.010</td>\n",
       "      <td>0.230</td>\n",
       "      <td>0.00008</td>\n",
       "      <td>-0.00007</td>\n",
       "      <td>0.030</td>\n",
       "      <td>-0.090</td>\n",
       "      <td>0.100</td>\n",
       "      <td>0.070</td>\n",
       "      <td>0.020</td>\n",
       "      <td>0.070</td>\n",
       "    </tr>\n",
       "    <tr>\n",
       "      <th>4</th>\n",
       "      <td>K00114.01</td>\n",
       "      <td>FALSE POSITIVE</td>\n",
       "      <td>7.36179</td>\n",
       "      <td>1.169</td>\n",
       "      <td>5.02200</td>\n",
       "      <td>233.7</td>\n",
       "      <td>0.18339</td>\n",
       "      <td>0.00485</td>\n",
       "      <td>39.21</td>\n",
       "      <td>0.0820</td>\n",
       "      <td>...</td>\n",
       "      <td>-13.450</td>\n",
       "      <td>24.090</td>\n",
       "      <td>0.00303</td>\n",
       "      <td>-0.00555</td>\n",
       "      <td>-4.506</td>\n",
       "      <td>7.710</td>\n",
       "      <td>8.930</td>\n",
       "      <td>-4.537</td>\n",
       "      <td>7.713</td>\n",
       "      <td>8.948</td>\n",
       "    </tr>\n",
       "  </tbody>\n",
       "</table>\n",
       "<p>5 rows × 43 columns</p>\n",
       "</div>"
      ]
     },
     "metadata": {},
     "execution_count": 26
    }
   ],
   "metadata": {}
  },
  {
   "cell_type": "markdown",
   "source": [
    "# Normalizando os dados\n",
    "\n",
    "### Para evitar que variações no range dos atributos atrapalhem a predição de modo que atributos ganhem ou percam importância indevidamente normalizamos os valores de todos atributos dentro do intervalo de 0-1."
   ],
   "metadata": {}
  },
  {
   "cell_type": "code",
   "execution_count": 27,
   "source": [
    "originalDF.columns"
   ],
   "outputs": [
    {
     "output_type": "execute_result",
     "data": {
      "text/plain": [
       "Index(['kepoi_name', 'koi_disposition', 'koi_period', 'koi_impact',\n",
       "       'koi_duration', 'koi_depth', 'koi_ror', 'koi_srho', 'koi_prad',\n",
       "       'koi_sma', 'koi_incl', 'koi_teq', 'koi_insol', 'koi_dor',\n",
       "       'koi_max_sngle_ev', 'koi_max_mult_ev', 'koi_model_snr', 'koi_steff',\n",
       "       'koi_slogg', 'koi_smet', 'koi_srad', 'koi_smass', 'koi_kepmag',\n",
       "       'koi_gmag', 'koi_rmag', 'koi_imag', 'koi_zmag', 'koi_jmag', 'koi_hmag',\n",
       "       'koi_kmag', 'koi_fwm_stat_sig', 'koi_fwm_sra', 'koi_fwm_sdec',\n",
       "       'koi_fwm_srao', 'koi_fwm_sdeco', 'koi_fwm_prao', 'koi_fwm_pdeco',\n",
       "       'koi_dicco_mra', 'koi_dicco_mdec', 'koi_dicco_msky', 'koi_dikco_mra',\n",
       "       'koi_dikco_mdec', 'koi_dikco_msky'],\n",
       "      dtype='object')"
      ]
     },
     "metadata": {},
     "execution_count": 27
    }
   ],
   "metadata": {}
  },
  {
   "cell_type": "code",
   "execution_count": 28,
   "source": [
    "dataset_path = \"database/df.csv\"\n",
    "if os.path.exists(dataset_path):\n",
    "    df = pd.read_csv(dataset_path, sep=\",\")\n",
    "else:\n",
    "    target = originalDF[\"koi_disposition\"]\n",
    "    df_values = originalDF.drop(columns=[\"koi_disposition\",\"kepoi_name\"], axis=1)\n",
    "    feats = normalize(df_values.values)\n",
    "    df = pd.DataFrame(feats, columns=list(df_values.columns))\n",
    "    df[\"koi_disposition\"] = target\n",
    "    df.to_csv(dataset_path, sep=\",\", index=False)\n"
   ],
   "outputs": [],
   "metadata": {}
  },
  {
   "cell_type": "code",
   "execution_count": 29,
   "source": [
    "df.head(5)"
   ],
   "outputs": [
    {
     "output_type": "execute_result",
     "data": {
      "text/plain": [
       "   koi_period  koi_impact  koi_duration  koi_depth   koi_ror      koi_srho  \\\n",
       "0    0.001710    0.000026      0.000533   0.110979  0.000004  5.781357e-04   \n",
       "1    0.009815    0.000106      0.000813   0.157778  0.000005  5.453491e-04   \n",
       "2    0.000172    0.000126      0.000238   0.798887  0.000038  2.183314e-05   \n",
       "3    0.000401    0.000111      0.000263   0.095887  0.000004  3.157066e-04   \n",
       "4    0.001146    0.000182      0.000782   0.036394  0.000029  7.552898e-07   \n",
       "\n",
       "   koi_prad   koi_sma  koi_incl   koi_teq  ...  koi_fwm_sdeco  koi_fwm_prao  \\\n",
       "0  0.000407  0.000015  0.016158  0.142914  ...   1.694060e-04 -3.604382e-08   \n",
       "1  0.000510  0.000049  0.016155  0.079899  ...   2.218421e-04  1.190372e-07   \n",
       "2  0.003309  0.000003  0.006634  0.137940  ...   1.977640e-07  2.986236e-07   \n",
       "3  0.000437  0.000006  0.013575  0.223467  ...   3.655575e-05  1.271504e-08   \n",
       "4  0.006106  0.000013  0.009487  0.208989  ...   3.751532e-03  4.718615e-07   \n",
       "\n",
       "   koi_fwm_pdeco  koi_dicco_mra  koi_dicco_mdec  koi_dicco_msky  \\\n",
       "0  -9.912050e-08      -0.000002        0.000036        0.000036   \n",
       "1  -1.893774e-07       0.000070        0.000000        0.000070   \n",
       "2  -1.404124e-07      -0.000025        0.000015        0.000029   \n",
       "3  -1.112566e-08       0.000005       -0.000014        0.000016   \n",
       "4  -8.643007e-07      -0.000702        0.001201        0.001391   \n",
       "\n",
       "   koi_dikco_mra  koi_dikco_mdec  koi_dikco_msky  koi_disposition  \n",
       "0       0.000014        0.000056        0.000058        CONFIRMED  \n",
       "1       0.000088        0.000022        0.000090        CONFIRMED  \n",
       "2      -0.000025        0.000010        0.000027   FALSE POSITIVE  \n",
       "3       0.000011        0.000003        0.000011        CONFIRMED  \n",
       "4      -0.000707        0.001201        0.001393   FALSE POSITIVE  \n",
       "\n",
       "[5 rows x 42 columns]"
      ],
      "text/html": [
       "<div>\n",
       "<style scoped>\n",
       "    .dataframe tbody tr th:only-of-type {\n",
       "        vertical-align: middle;\n",
       "    }\n",
       "\n",
       "    .dataframe tbody tr th {\n",
       "        vertical-align: top;\n",
       "    }\n",
       "\n",
       "    .dataframe thead th {\n",
       "        text-align: right;\n",
       "    }\n",
       "</style>\n",
       "<table border=\"1\" class=\"dataframe\">\n",
       "  <thead>\n",
       "    <tr style=\"text-align: right;\">\n",
       "      <th></th>\n",
       "      <th>koi_period</th>\n",
       "      <th>koi_impact</th>\n",
       "      <th>koi_duration</th>\n",
       "      <th>koi_depth</th>\n",
       "      <th>koi_ror</th>\n",
       "      <th>koi_srho</th>\n",
       "      <th>koi_prad</th>\n",
       "      <th>koi_sma</th>\n",
       "      <th>koi_incl</th>\n",
       "      <th>koi_teq</th>\n",
       "      <th>...</th>\n",
       "      <th>koi_fwm_sdeco</th>\n",
       "      <th>koi_fwm_prao</th>\n",
       "      <th>koi_fwm_pdeco</th>\n",
       "      <th>koi_dicco_mra</th>\n",
       "      <th>koi_dicco_mdec</th>\n",
       "      <th>koi_dicco_msky</th>\n",
       "      <th>koi_dikco_mra</th>\n",
       "      <th>koi_dikco_mdec</th>\n",
       "      <th>koi_dikco_msky</th>\n",
       "      <th>koi_disposition</th>\n",
       "    </tr>\n",
       "  </thead>\n",
       "  <tbody>\n",
       "    <tr>\n",
       "      <th>0</th>\n",
       "      <td>0.001710</td>\n",
       "      <td>0.000026</td>\n",
       "      <td>0.000533</td>\n",
       "      <td>0.110979</td>\n",
       "      <td>0.000004</td>\n",
       "      <td>5.781357e-04</td>\n",
       "      <td>0.000407</td>\n",
       "      <td>0.000015</td>\n",
       "      <td>0.016158</td>\n",
       "      <td>0.142914</td>\n",
       "      <td>...</td>\n",
       "      <td>1.694060e-04</td>\n",
       "      <td>-3.604382e-08</td>\n",
       "      <td>-9.912050e-08</td>\n",
       "      <td>-0.000002</td>\n",
       "      <td>0.000036</td>\n",
       "      <td>0.000036</td>\n",
       "      <td>0.000014</td>\n",
       "      <td>0.000056</td>\n",
       "      <td>0.000058</td>\n",
       "      <td>CONFIRMED</td>\n",
       "    </tr>\n",
       "    <tr>\n",
       "      <th>1</th>\n",
       "      <td>0.009815</td>\n",
       "      <td>0.000106</td>\n",
       "      <td>0.000813</td>\n",
       "      <td>0.157778</td>\n",
       "      <td>0.000005</td>\n",
       "      <td>5.453491e-04</td>\n",
       "      <td>0.000510</td>\n",
       "      <td>0.000049</td>\n",
       "      <td>0.016155</td>\n",
       "      <td>0.079899</td>\n",
       "      <td>...</td>\n",
       "      <td>2.218421e-04</td>\n",
       "      <td>1.190372e-07</td>\n",
       "      <td>-1.893774e-07</td>\n",
       "      <td>0.000070</td>\n",
       "      <td>0.000000</td>\n",
       "      <td>0.000070</td>\n",
       "      <td>0.000088</td>\n",
       "      <td>0.000022</td>\n",
       "      <td>0.000090</td>\n",
       "      <td>CONFIRMED</td>\n",
       "    </tr>\n",
       "    <tr>\n",
       "      <th>2</th>\n",
       "      <td>0.000172</td>\n",
       "      <td>0.000126</td>\n",
       "      <td>0.000238</td>\n",
       "      <td>0.798887</td>\n",
       "      <td>0.000038</td>\n",
       "      <td>2.183314e-05</td>\n",
       "      <td>0.003309</td>\n",
       "      <td>0.000003</td>\n",
       "      <td>0.006634</td>\n",
       "      <td>0.137940</td>\n",
       "      <td>...</td>\n",
       "      <td>1.977640e-07</td>\n",
       "      <td>2.986236e-07</td>\n",
       "      <td>-1.404124e-07</td>\n",
       "      <td>-0.000025</td>\n",
       "      <td>0.000015</td>\n",
       "      <td>0.000029</td>\n",
       "      <td>-0.000025</td>\n",
       "      <td>0.000010</td>\n",
       "      <td>0.000027</td>\n",
       "      <td>FALSE POSITIVE</td>\n",
       "    </tr>\n",
       "    <tr>\n",
       "      <th>3</th>\n",
       "      <td>0.000401</td>\n",
       "      <td>0.000111</td>\n",
       "      <td>0.000263</td>\n",
       "      <td>0.095887</td>\n",
       "      <td>0.000004</td>\n",
       "      <td>3.157066e-04</td>\n",
       "      <td>0.000437</td>\n",
       "      <td>0.000006</td>\n",
       "      <td>0.013575</td>\n",
       "      <td>0.223467</td>\n",
       "      <td>...</td>\n",
       "      <td>3.655575e-05</td>\n",
       "      <td>1.271504e-08</td>\n",
       "      <td>-1.112566e-08</td>\n",
       "      <td>0.000005</td>\n",
       "      <td>-0.000014</td>\n",
       "      <td>0.000016</td>\n",
       "      <td>0.000011</td>\n",
       "      <td>0.000003</td>\n",
       "      <td>0.000011</td>\n",
       "      <td>CONFIRMED</td>\n",
       "    </tr>\n",
       "    <tr>\n",
       "      <th>4</th>\n",
       "      <td>0.001146</td>\n",
       "      <td>0.000182</td>\n",
       "      <td>0.000782</td>\n",
       "      <td>0.036394</td>\n",
       "      <td>0.000029</td>\n",
       "      <td>7.552898e-07</td>\n",
       "      <td>0.006106</td>\n",
       "      <td>0.000013</td>\n",
       "      <td>0.009487</td>\n",
       "      <td>0.208989</td>\n",
       "      <td>...</td>\n",
       "      <td>3.751532e-03</td>\n",
       "      <td>4.718615e-07</td>\n",
       "      <td>-8.643007e-07</td>\n",
       "      <td>-0.000702</td>\n",
       "      <td>0.001201</td>\n",
       "      <td>0.001391</td>\n",
       "      <td>-0.000707</td>\n",
       "      <td>0.001201</td>\n",
       "      <td>0.001393</td>\n",
       "      <td>FALSE POSITIVE</td>\n",
       "    </tr>\n",
       "  </tbody>\n",
       "</table>\n",
       "<p>5 rows × 42 columns</p>\n",
       "</div>"
      ]
     },
     "metadata": {},
     "execution_count": 29
    }
   ],
   "metadata": {}
  },
  {
   "cell_type": "markdown",
   "source": [
    "# Funções de Suporte\n",
    "\n",
    "### Funções para Tunar modelos, Plotar gráfico da acurácia e Avaliar os melhores modelos (precisão, recall e curva roc)."
   ],
   "metadata": {}
  },
  {
   "cell_type": "code",
   "execution_count": 30,
   "source": [
    "def hyper_tuning(df, clf, params, score=\"accuracy\"):\n",
    "    folds = 5\n",
    "    kfolds = StratifiedKFold(n_splits=folds)\n",
    "    X = df.drop(columns=[\"koi_disposition\"], axis=1).values\n",
    "    Y = df[\"koi_disposition\"]\n",
    "    grid_search_cv = GridSearchCV(clf, params, scoring=score, cv=kfolds, verbose=3, n_jobs=25)\n",
    "    grid_search_cv.fit(X, Y)\n",
    "    return grid_search_cv\n",
    "\n",
    "def plot_graph(clf_scores, start, end, xlabel, ylabel=\"Accuracy\"):\n",
    "    x = list(range(start, end))\n",
    "    fig, ax = plt.subplots()\n",
    "    ax.grid()\n",
    "    ax.set_xlabel(xlabel)\n",
    "    ax.set_ylabel(ylabel)\n",
    "    # Configurando intervalo de plot no eixo Y.\n",
    "    ax.set_ylim([0,1])\n",
    "    ax.plot(x, clf_scores)\n",
    "    point = np.argmax(clf_scores)+1\n",
    "    max_value = clf_scores[point]\n",
    "    ax.plot([point],[max_value], linestyle='--', marker='o', color='red', label='Optimal Value')\n",
    "    ax.legend()\n",
    "\n",
    "def map_label(x):\n",
    "\n",
    "    if x == 'CONFIRMED':\n",
    "        return 1\n",
    "    return 0\n",
    "    \n",
    "def analysis_best_estimator(df, best_clf):\n",
    "\n",
    "    # Preparando o dado para treino e teste.\n",
    "    X = df.drop(columns=[\"koi_disposition\"], axis=1).values\n",
    "    Y = list(map(map_label, df[\"koi_disposition\"]))\n",
    "    r = np.random\n",
    "    seed = r.randint(100)\n",
    "    X_train, X_test, Y_train, Y_test = train_test_split(X, Y, test_size=0.25, random_state=seed)\n",
    "\n",
    "    # Treinando o classificador.\n",
    "    best_clf.fit(X_train, Y_train)\n",
    "    Y_pred = best_clf.predict(X_test)\n",
    "\n",
    "    # Avaliando o classificador.\n",
    "    precision = precision_score(Y_test, Y_pred)\n",
    "    recall = recall_score(Y_test, Y_pred)\n",
    "    roc_auc = roc_auc_score(Y_test, Y_pred)\n",
    "\n",
    "    print(\"Precisão: \", precision)\n",
    "    print(\"Recall: \", recall)\n",
    "    print(\"ROC_AUC: \", roc_auc)"
   ],
   "outputs": [],
   "metadata": {}
  },
  {
   "cell_type": "markdown",
   "source": [
    "# Distribuição dos Dados"
   ],
   "metadata": {}
  },
  {
   "cell_type": "code",
   "execution_count": 80,
   "source": [
    "params = dict(grid = True, ylim=[0,1])\n",
    "ax = df.koi_disposition.value_counts(normalize=True).plot(kind='bar', rot=0, **params)\n",
    "\n",
    "values = df.koi_disposition.value_counts()\n",
    "\n",
    "for p, v in zip(ax.patches, values):\n",
    "    ax.annotate(str(v), (p.get_x() * 1.03, p.get_height() * 1.03))\n",
    "\n",
    "plt.xlabel(\"Classes\", labelpad=16)\n",
    "plt.ylabel(\"Qtde (%)\", labelpad=16)"
   ],
   "outputs": [
    {
     "output_type": "execute_result",
     "data": {
      "text/plain": [
       "Text(0, 0.5, 'Qtde (%)')"
      ]
     },
     "metadata": {},
     "execution_count": 80
    },
    {
     "output_type": "display_data",
     "data": {
      "text/plain": [
       "<Figure size 432x288 with 1 Axes>"
      ],
      "image/png": "[encoded data removed]"
     },
     "metadata": {
      "needs_background": "light"
     }
    }
   ],
   "metadata": {}
  },
  {
   "cell_type": "markdown",
   "source": [
    "### Os dados estão um pouco desbalanceados, porem nada que atrapalhe a classificação."
   ],
   "metadata": {}
  },
  {
   "cell_type": "markdown",
   "source": [
    "# Base Line (Nayve Bayes)\n",
    "### Construindo baseline com algoritimo Naive Bayes. Para construir o baseline com este algoritimo utilizaremos a versão Gaussian Naive Bayes para lidar com valores reais."
   ],
   "metadata": {}
  },
  {
   "cell_type": "code",
   "execution_count": 31,
   "source": [
    "\n",
    "folds = 5\n",
    "X = df.drop(columns=[\"koi_disposition\"], axis=1).values\n",
    "Y = df[\"koi_disposition\"]\n",
    "clf = GaussianNB()\n",
    "scores = [\"accuracy\", \"f1_macro\"]\n",
    "for score in scores:\n",
    "    print(f\"Média ({score}): \", sum(cross_val_score(clf, X, Y, cv=folds, scoring=score, n_jobs=15))/folds)\n",
    "\n",
    "analysis_best_estimator(df, GaussianNB())\n"
   ],
   "outputs": [
    {
     "output_type": "stream",
     "name": "stdout",
     "text": [
      "Média (accuracy):  0.9188827311017513\n",
      "Média (f1_macro):  0.9167560623872187\n",
      "Precisão:  0.8525754884547069\n",
      "Recall:  0.9561752988047809\n",
      "ROC_AUC:  0.9261477244962578\n"
     ]
    }
   ],
   "metadata": {}
  },
  {
   "cell_type": "markdown",
   "source": [
    "### O algoritmo Naive Bayes (Baseline de nosso experimento) obteve ~ 91.89 de acuurácia na predição das classes de planetas. A cobertura do mesmo ficou alta, que mostra tendência do modelo de classificar mais instâncias como confirmadas quando não estão. Isso corrobora com a precisão relativamente baixa em relação ao recall. Apesar da precisão estar afetada, o modelo conseguiu separar os dados ligeiramente bem, ficando com 92.61% de ROC_AUC."
   ],
   "metadata": {}
  },
  {
   "cell_type": "markdown",
   "source": [
    "# Decision Tree"
   ],
   "metadata": {}
  },
  {
   "cell_type": "markdown",
   "source": [
    "### Estimando a altura máxima esperada da árvore. Para isso deixamos o atributo max_depth como padrão (que permite a árvore chegar na altura máxima) e variamos o parâmetro criterion com os valores 'gini' e 'entropy'. Conforme o cross_validation executado no gride search a altura máxima obtida foi 16."
   ],
   "metadata": {}
  },
  {
   "cell_type": "code",
   "execution_count": 32,
   "source": [
    "# Testando a altura máxima esperada dá árvore.\n",
    "k_folds = KFold(n_splits=5)\n",
    "\n",
    "tree_clf = DecisionTreeClassifier()\n",
    "params = {\"criterion\" : [\"gini\",\"entropy\"]}\n",
    "tree_clf = GridSearchCV(tree_clf, params, cv=k_folds)\n",
    "\n",
    "tree_clf.fit(X, Y)\n",
    "tree_clf_depth = tree_clf.best_estimator_\n",
    "print(\"Max Depth Tree: \", tree_clf_depth.tree_.max_depth)"
   ],
   "outputs": [
    {
     "output_type": "stream",
     "name": "stdout",
     "text": [
      "Max Depth Tree:  16\n"
     ]
    }
   ],
   "metadata": {}
  },
  {
   "cell_type": "markdown",
   "source": [
    "### Buscando por estimador ótimo para a árvore. Conforme aumentamos a altura da árvore, aumentamos a capacidade do modelo o que nos permite representar funções mais complexas, porém, aproxima o algoritimo de um possível super ajuste conforme a altura aumenta demais. Dessa forma nosso objetivo é encontrar a altura que maximize a acurácia do algoritimo, que reside no limite entre o underfitting e overfitting. Para encontrar a melhor altura da árvore dado dados os outros parâmetros como default da biblioteca Sklearn, utilizamos o Grid Search para procurar a altura do melhor estimador no intervalo de discreto [1, 20] (cobrindo o valor estimado pelo padrão da biblioteca do sklearn que é 16)."
   ],
   "metadata": {}
  },
  {
   "cell_type": "code",
   "execution_count": 33,
   "source": [
    "# Construindo o classificador e o conjunto de parâmetros para busca. Buscaremos até o a altura 20 (4 a mais do esperado).\n",
    "tree_clf = DecisionTreeClassifier()\n",
    "tree_params = {'max_depth': list(range(1, 20))}\n",
    "\n",
    "# Buscando parâmetros.\n",
    "tree_grid_search_cv = hyper_tuning(df, tree_clf, tree_params)\n"
   ],
   "outputs": [
    {
     "output_type": "stream",
     "name": "stdout",
     "text": [
      "Fitting 5 folds for each of 19 candidates, totalling 95 fits\n"
     ]
    }
   ],
   "metadata": {}
  },
  {
   "cell_type": "markdown",
   "source": [
    "## Gráfico da acurácia obtida com o Decision Tree para cada valor de altura."
   ],
   "metadata": {}
  },
  {
   "cell_type": "code",
   "execution_count": 34,
   "source": [
    "tree_mean_scores = tree_grid_search_cv.cv_results_[\"mean_test_score\"]\n",
    "plot_graph(tree_mean_scores, 1, len(tree_mean_scores)+1, \"Altura da Árvore\")"
   ],
   "outputs": [
    {
     "output_type": "display_data",
     "data": {
      "text/plain": [
       "<Figure size 432x288 with 1 Axes>"
      ],
      "image/png": "[encoded data removed]"
     },
     "metadata": {
      "needs_background": "light"
     }
    }
   ],
   "metadata": {}
  },
  {
   "cell_type": "markdown",
   "source": [
    "### O aumento da altura da árvore até o sexto nível foi importante, levando a acurácia inicial ~78% para ~96%. Para alturas maiores que seis, os modelos se mantiveram constantes, com perda de acurácia praticamente desprezível em relação ao melhor."
   ],
   "metadata": {}
  },
  {
   "cell_type": "markdown",
   "source": [
    "## Verificando a precisão, recall e ROC_AUC."
   ],
   "metadata": {}
  },
  {
   "cell_type": "code",
   "execution_count": 35,
   "source": [
    "max_depth = tree_grid_search_cv.best_params_[\"max_depth\"]\n",
    "best_tree_clf = DecisionTreeClassifier(max_depth=max_depth)\n",
    "analysis_best_estimator(df, best_tree_clf)"
   ],
   "outputs": [
    {
     "output_type": "stream",
     "name": "stdout",
     "text": [
      "Precisão:  0.9099099099099099\n",
      "Recall:  0.9510357815442562\n",
      "ROC_AUC:  0.9430503583045955\n"
     ]
    }
   ],
   "metadata": {}
  },
  {
   "cell_type": "markdown",
   "source": [
    "### O modelo gerado com o árvores de tamanho máximo 6, obteve um pouco mais de dificuldade para identificar planetas confirmados em meio a confirmados e não confirmados, o que justifica a precisão mais baixa e o recall mais alto. O modelo gerado tende ligeiramente a classificar mais planetas como confirmados do que deveria. Porém, manteve a curva roc equilibrada em relação ao recall, mostrando que ainda sim separou bem planetas confirmados de não confirmados."
   ],
   "metadata": {}
  },
  {
   "cell_type": "markdown",
   "source": [
    "# SVM (Suport Vector Machine)\n",
    "\n",
    "### Análise do algoritmo SVM com diferentes funções de kernel para o problema de classificação de explanetas. A função de kernel permite ao SVM representar os dados em um plano mais elevado, sem alterá-los de fato, fazendo apenas a transformação no resultado do produto vetorial dos vetores de suporte. Essa transformação é reversível e permite que o SVM separe os dados em um plano mais complexo, com mais dimensões que o dado original. De forma similar a árvore, usar um kernel complexo demais para o problema pode atrapalhar o algoritimo e sentenciá-lo a um possível overfitting. Dessa forma, investigamos qual kernel é o mais adequado para o tal problema, aplicando validação cruzada no processo de seleção do modelo.\n",
    "\n",
    " A função de Kernel permite fazer uma transformação reversível nos dados, de modo q"
   ],
   "metadata": {}
  },
  {
   "cell_type": "code",
   "execution_count": 36,
   "source": [
    "# Construindo classificador SVM.\n",
    "svm_params = {\"kernel\": [\"linear\", \"poly\", \"rbf\", \"sigmoid\"]}\n",
    "svm_clf = SVC()\n",
    "\n",
    "# Encontrando o melhor Kernel para o SVM.\n",
    "svm_grid_search_cv = hyper_tuning(df, svm_clf, svm_params)"
   ],
   "outputs": [
    {
     "output_type": "stream",
     "name": "stdout",
     "text": [
      "Fitting 5 folds for each of 4 candidates, totalling 20 fits\n"
     ]
    }
   ],
   "metadata": {}
  },
  {
   "cell_type": "markdown",
   "source": [
    "|  Kernel  \t|   Linear   \t|    Poly    \t|     RBF    \t| Sigmoid    \t|\n",
    "|:--------:\t|:----------:\t|:----------:\t|:----------:\t|------------\t|\n",
    "| Acurácia \t|  0.7383858 \t| 0.76337656 \t| 0.75510881 \t| 0.62670528 \t|\n",
    "| Desvio   \t| 0.05464554 \t| 0.05227889 \t| 0.05386723 \t| 0.05502124 \t|"
   ],
   "metadata": {}
  },
  {
   "cell_type": "code",
   "execution_count": 37,
   "source": [
    "kernel = svm_grid_search_cv.best_params_[\"kernel\"]\n",
    "best_svm_clf = SVC(kernel=kernel)\n",
    "analysis_best_estimator(df, best_svm_clf)"
   ],
   "outputs": [
    {
     "output_type": "stream",
     "name": "stdout",
     "text": [
      "Precisão:  0.6930091185410334\n",
      "Recall:  0.8652751423149905\n",
      "ROC_AUC:  0.802146615085144\n"
     ]
    }
   ],
   "metadata": {}
  },
  {
   "cell_type": "markdown",
   "source": [
    "### Como podemos ver, existe um grande desbalanço entre a precisão e o recall do algoritimo. Isso nos diz que ele está com maior dificuldade em identificar se um planeta é de fato confirmado como exoplaneta ou não, classificando ~ 30% de planetas como confirmado, quando não estão. A precisão baixa, explica o recall mais alto, onde o algoritimo tende a classificar muitas instâncias como confirmado. Logo aumentando a cobertura. No todo, apesar da baixa precisão o algoritmo conseguiu equilibrar a separação ligeiramente bem, mantendo 80% de ROC_AUC."
   ],
   "metadata": {}
  },
  {
   "cell_type": "markdown",
   "source": [
    "# KNN K-Nearest Neighbors\n",
    "\n",
    "### Avaliação do algoritimo KNN variando o número de vizinhos. Conforme aumentamos o número de vizinhos do KNN, aumentamos a robustez do modelo contra possível ruído. Isso porque, conforme aumenta o número de vizinhos, a chance de um dado ruidoso ser diferenciável na classificação é menor. Porém, se muitos vizinhos forem levados em consideração, o modelo pode cair em underfitting e tratar todos os pontos como pertencentes a uma mesma classe."
   ],
   "metadata": {}
  },
  {
   "cell_type": "code",
   "execution_count": 38,
   "source": [
    "# Construindo o classificador e o conjunto de parâmetros para busca. Buscaremos até o a altura 20 (4 a mais do esperado).\n",
    "knn_clf = KNeighborsClassifier()\n",
    "knn_params = {'n_neighbors': list(range(1, 20))}\n",
    "\n",
    "# Buscando número de vizinhos ideal para o KNN.\n",
    "knn_grid_search_cv = hyper_tuning(df, knn_clf, knn_params)"
   ],
   "outputs": [
    {
     "output_type": "stream",
     "name": "stdout",
     "text": [
      "Fitting 5 folds for each of 19 candidates, totalling 95 fits\n"
     ]
    }
   ],
   "metadata": {}
  },
  {
   "cell_type": "markdown",
   "source": [
    "## Plot da acurácia pela quantidade de vizinhos utilizados em cada modelo."
   ],
   "metadata": {}
  },
  {
   "cell_type": "code",
   "execution_count": 39,
   "source": [
    "knn_mean_scores = knn_grid_search_cv.cv_results_[\"mean_test_score\"]\n",
    "plot_graph(knn_mean_scores, 1, len(knn_mean_scores)+1, \"N Neighbors\")"
   ],
   "outputs": [
    {
     "output_type": "display_data",
     "data": {
      "text/plain": [
       "<Figure size 432x288 with 1 Axes>"
      ],
      "image/png": "[encoded data removed]"
     },
     "metadata": {
      "needs_background": "light"
     }
    }
   ],
   "metadata": {}
  },
  {
   "cell_type": "code",
   "execution_count": 40,
   "source": [
    "n_neighbors = knn_grid_search_cv.best_params_[\"n_neighbors\"]\n",
    "best_knn_clf = KNeighborsClassifier(n_neighbors=n_neighbors)\n",
    "analysis_best_estimator(df, best_knn_clf)"
   ],
   "outputs": [
    {
     "output_type": "stream",
     "name": "stdout",
     "text": [
      "Precisão:  0.6983606557377049\n",
      "Recall:  0.8192307692307692\n",
      "ROC_AUC:  0.7918176893529006\n"
     ]
    }
   ],
   "metadata": {}
  },
  {
   "cell_type": "markdown",
   "source": [
    "### Como podemos ver, como na análise do SVM, existe um grande desbalanço entre a precisão e o recall do algoritimo. Isso nos diz que ele está com maior dificuldade em identificar se um planeta é de fato confirmado como exoplaneta ou não, classificando ~ 30% de planetas como confirmado, quando não estão. A precisão baixa, explica o recall mais alto, onde o algoritimo tende a classificar muitas instâncias como confirmado. Logo aumentando a cobertura a custa da queda na precisão. O dado pode estar muito misturado e dessa forma, a distância entre vizinhos de duas classes distintas ser próxima para um ponto a ser classificado. O aumento de vizinhos dessa forma, não ajuda significativamente o KNN e leva o algoritimo ao underfitting, que pode ser observado no gráfico. Conforme o número de vizinhos aumenta, a acurácia se mantem cada vez mais estável."
   ],
   "metadata": {}
  },
  {
   "cell_type": "markdown",
   "source": [
    "# Random Forest Classifier\n",
    "\n",
    "### Para avaliar o algoritmo Random Forest, vamos verificar o impacto do aumento da quantidade de árvores utilizadas pelo algoritimo. Métodos de boosting tendem a ser robustos em relação a overfitting, uma vez que vários classificadores são levados em consideração no momento da classificação. Dessa forma, o Random Forest é em teoria robusto a overfitting em relação a quantidade de árvores utilizadas. Porém, um grande número de árvores custa caro computacionalmente e pode atrapalhar o modelo a tomar decisões, se muitas árvores super ajustadas surgirem na classificação. Dessa forma, o objetivo é encontrar a quantidade de árvores que otimiza a acurácia do modelo."
   ],
   "metadata": {}
  },
  {
   "cell_type": "code",
   "execution_count": 41,
   "source": [
    "# Construindo instância do classificador RF e configurando espaço de alternativas para o número de árvores.\n",
    "rf_params = {\"n_estimators\": list(range(1,200))}\n",
    "rf_clf = RandomForestClassifier(n_jobs=15)\n",
    "\n",
    "# Buscando o número ideal de árvores para o algoritimo Random Forest.\n",
    "rf_grid_search_cv = hyper_tuning(df, rf_clf, rf_params)"
   ],
   "outputs": [
    {
     "output_type": "stream",
     "name": "stdout",
     "text": [
      "Fitting 5 folds for each of 199 candidates, totalling 995 fits\n"
     ]
    }
   ],
   "metadata": {}
  },
  {
   "cell_type": "markdown",
   "source": [
    "## Gráfico da quantidade de árvores pela acurácia obtida."
   ],
   "metadata": {}
  },
  {
   "cell_type": "code",
   "execution_count": 42,
   "source": [
    "rf_mean_scores = rf_grid_search_cv.cv_results_[\"mean_test_score\"]\n",
    "plot_graph(rf_mean_scores, 1, len(rf_mean_scores)+1, \"N-Estimators\")"
   ],
   "outputs": [
    {
     "output_type": "display_data",
     "data": {
      "text/plain": [
       "<Figure size 432x288 with 1 Axes>"
      ],
      "image/png": "[encoded data removed]"
     },
     "metadata": {
      "needs_background": "light"
     }
    }
   ],
   "metadata": {}
  },
  {
   "cell_type": "markdown",
   "source": [
    "### A quantidade de árvores que maxiza a acurácia do modelo é aproximadamente 90. Porém, observando no gráfico, com cinco ou mais árvores a diferença obtida na acurácia é muito baixa para a utilização de 90 árvores. Em contrapartida o custo computacional é maior para se treinar 90 árvores ao lugar de cinco. Dessa forma, apesar de 90 árvores levar a acurácia máxima, cinco ávores apresenta melhor custo benefício entre acurácia e custo computacional."
   ],
   "metadata": {}
  },
  {
   "cell_type": "code",
   "execution_count": 43,
   "source": [
    "n_estimators = rf_grid_search_cv.best_params_[\"n_estimators\"]\n",
    "best_rf_clf = RandomForestClassifier(n_estimators=n_estimators)\n",
    "analysis_best_estimator(df, best_rf_clf)"
   ],
   "outputs": [
    {
     "output_type": "stream",
     "name": "stdout",
     "text": [
      "Precisão:  0.9678714859437751\n",
      "Recall:  0.964\n",
      "ROC_AUC:  0.9720124843945067\n"
     ]
    }
   ],
   "metadata": {}
  },
  {
   "cell_type": "markdown",
   "source": [
    "### O algoritimo se mostrou eficiente em separar os dados e reduzir a quantidade de falsos positivos. O que justifica a precisão e a curva roc estarem mais elevados que o recall, que apesar de estar menor que os dois primeiros, está bem equilibrado, com a cobertura próxima do ideal."
   ],
   "metadata": {}
  },
  {
   "cell_type": "markdown",
   "source": [
    "# Gradient Tree Classifier\n",
    "\n",
    "### Gradient Tree Classifier é um modelo de esemble que otimiza o peso atribuido a importância do votos de classificadores a partir da descida de gradiente na minimização de uma função de erro. Para avaliar esse algoritimo, variamos a quantidade de iterações realizadas na otimização do modelo, que em resumo consiste no número de árvores utilizadas. Com muitas árvores, e sabendo que as árvores desse algoritmo variam de tamanho (podendo chegar a overfitting) o objetivo da variação é achar o número de iterações (árvores utilizadas) que maximize a acurácia do modelo."
   ],
   "metadata": {}
  },
  {
   "cell_type": "code",
   "execution_count": 44,
   "source": [
    "# Construindo instância do classificador GTC e espaço de busca por iterações.\n",
    "gtc_params = {\"n_iter_no_change\": list(range(1,200))}\n",
    "gtc_clf = GradientBoostingClassifier()\n",
    "\n",
    "# Buscando número de iterações ideal para o classificador GTC.\n",
    "gtc_grid_search_cv = hyper_tuning(df, gtc_clf, gtc_params)"
   ],
   "outputs": [
    {
     "output_type": "stream",
     "name": "stdout",
     "text": [
      "Fitting 5 folds for each of 199 candidates, totalling 995 fits\n"
     ]
    }
   ],
   "metadata": {}
  },
  {
   "cell_type": "markdown",
   "source": [
    "## Gráfico da quantidade de iterações pela acurácia."
   ],
   "metadata": {}
  },
  {
   "cell_type": "code",
   "execution_count": 45,
   "source": [
    "gtc_mean_scores = gtc_grid_search_cv.cv_results_[\"mean_test_score\"]\n",
    "plot_graph(gtc_mean_scores, 1, len(gtc_mean_scores)+1, \"Iterations\")"
   ],
   "outputs": [
    {
     "output_type": "display_data",
     "data": {
      "text/plain": [
       "<Figure size 432x288 with 1 Axes>"
      ],
      "image/png": "[encoded data removed]"
     },
     "metadata": {
      "needs_background": "light"
     }
    }
   ],
   "metadata": {}
  },
  {
   "cell_type": "code",
   "execution_count": 46,
   "source": [
    "n_iter_no_change = gtc_grid_search_cv.best_params_[\"n_iter_no_change\"]\n",
    "best_gtc_clf = GradientBoostingClassifier(n_iter_no_change=n_iter_no_change)\n",
    "analysis_best_estimator(df, best_gtc_clf)"
   ],
   "outputs": [
    {
     "output_type": "stream",
     "name": "stdout",
     "text": [
      "Precisão:  0.9534450651769087\n",
      "Recall:  0.9678638941398866\n",
      "ROC_AUC:  0.9677402372253837\n"
     ]
    }
   ],
   "metadata": {}
  },
  {
   "cell_type": "markdown",
   "source": [
    "### O número de iterações que levou o algoritimo a acurácia máxima foi ~117. Porém, como mostrado no gráfico de iterações por acurácia do modelo, o desempenho do algoritimo se manteve praticamente constante, com oscilações (aumentos) desprezíveis de desempenho conforme o aumento do número de iterações. Dessa forma, com poucas iterações (i < 5) o algoritimo foi capaz de atingir mais de 97% de acurácia. Um teste com poucas árvores estimando a precisão, recall e curva roc é válido para verificar se os scores se mantém competitivos, porém, tratando-se da acurácia, um número baixo de iterações é mais indicado, devido ao custo computacional. Por fim, este foi o algoritmo que gerou modelos com maior capacidade de separar planetas confirmados como exoplanetas de planetas não confirmados como mostrado pelo ROC_AUC do algoritimo (96,79%)."
   ],
   "metadata": {}
  }
 ],
 "metadata": {
  "orig_nbformat": 4,
  "language_info": {
   "name": "python",
   "version": "3.9.2",
   "mimetype": "text/x-python",
   "codemirror_mode": {
    "name": "ipython",
    "version": 3
   },
   "pygments_lexer": "ipython3",
   "nbconvert_exporter": "python",
   "file_extension": ".py"
  },
  "kernelspec": {
   "name": "python38364bitenvvenve087fdd06e3045a79996376126b94c1c",
   "display_name": "Python 3.8.3 64-bit ('env': venv)",
   "language": "python"
  },
  "interpreter": {
   "hash": "bcba1b8cf00d78a1a8555a432e03d91e293895ab4093de873ee571d807ac6ff7"
  }
 },
 "nbformat": 4,
 "nbformat_minor": 2
}